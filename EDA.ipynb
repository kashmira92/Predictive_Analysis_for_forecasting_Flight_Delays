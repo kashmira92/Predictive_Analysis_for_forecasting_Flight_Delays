{
 "cells": [
  {
   "cell_type": "code",
   "execution_count": 2,
   "metadata": {},
   "outputs": [],
   "source": [
    "#import libraries\n",
    "import pandas as pd\n",
    "from sklearn.metrics import *\n",
    "import plotly.express as px\n",
    "import plotly.graph_objects as go\n",
    "from sklearn.model_selection import train_test_split\n",
    "from sklearn.preprocessing import MinMaxScaler\n",
    "from sklearn.model_selection import cross_val_score\n",
    "from sklearn.model_selection import GridSearchCV\n",
    "from sklearn.neural_network import MLPClassifier\n",
    "from sklearn.ensemble import RandomForestClassifier\n",
    "import seaborn as sns\n",
    "import matplotlib.pyplot as plt\n",
    "import numpy as np\n",
    "import xgboost as xgb\n",
    "from sklearn.model_selection import StratifiedKFold\n",
    "import joblib\n",
    "import matplotlib.pyplot as plt\n",
    "import numpy as np\n",
    "import pandas as pd\n",
    "import seaborn as sns\n",
    "import warnings\n",
    "import pickle\n",
    "from sklearn.base import clone\n",
    "from sklearn.compose import make_column_transformer\n",
    "from sklearn.ensemble import RandomForestClassifier\n",
    "from sklearn.experimental import enable_halving_search_cv  # noqa\n",
    "from sklearn.linear_model import LogisticRegression\n",
    "from sklearn.model_selection import (\n",
    "    cross_val_score, StratifiedKFold, \n",
    "    train_test_split, HalvingGridSearchCV\n",
    ")\n",
    "from sklearn.pipeline import make_pipeline\n",
    "from sklearn.preprocessing import MinMaxScaler, FunctionTransformer\n",
    "from sklearn.svm import LinearSVC\n",
    "from sklearn.tree import DecisionTreeClassifier"
   ]
  },
  {
   "cell_type": "code",
   "execution_count": 47,
   "metadata": {},
   "outputs": [],
   "source": [
    "pd.set_option('display.max_columns', None)\n",
    "warnings.filterwarnings(\"ignore\")"
   ]
  },
  {
   "cell_type": "code",
   "execution_count": 3,
   "metadata": {},
   "outputs": [],
   "source": [
    "june_2021 = pd.read_csv('june-21.csv')\n",
    "july_2021 = pd.read_csv('july-21.csv')\n",
    "\n",
    "june_2022 = pd.read_csv('june-22.csv')\n",
    "july_2022 = pd.read_csv('july-22.csv')     "
   ]
  },
  {
   "cell_type": "code",
   "execution_count": 5,
   "metadata": {},
   "outputs": [
    {
     "data": {
      "text/plain": [
       "(546124, 61)"
      ]
     },
     "execution_count": 5,
     "metadata": {},
     "output_type": "execute_result"
    }
   ],
   "source": [
    "june_2021.shape"
   ]
  },
  {
   "cell_type": "code",
   "execution_count": 7,
   "metadata": {},
   "outputs": [],
   "source": [
    "#concatenate all dataframes\n",
    "final_df = pd.concat([june_2021, july_2021, june_2022, july_2022], axis=0)\n",
    "flights_df = final_df.copy()"
   ]
  },
  {
   "cell_type": "code",
   "execution_count": 8,
   "metadata": {},
   "outputs": [],
   "source": [
    "flights_df = final_df.copy()"
   ]
  },
  {
   "cell_type": "code",
   "execution_count": 9,
   "metadata": {},
   "outputs": [
    {
     "name": "stdout",
     "output_type": "stream",
     "text": [
      "Data size:  (2301622, 61)\n"
     ]
    }
   ],
   "source": [
    "print(\"Data size: \", final_df.shape)"
   ]
  },
  {
   "cell_type": "code",
   "execution_count": 10,
   "metadata": {},
   "outputs": [
    {
     "data": {
      "text/html": [
       "<div>\n",
       "<style scoped>\n",
       "    .dataframe tbody tr th:only-of-type {\n",
       "        vertical-align: middle;\n",
       "    }\n",
       "\n",
       "    .dataframe tbody tr th {\n",
       "        vertical-align: top;\n",
       "    }\n",
       "\n",
       "    .dataframe thead th {\n",
       "        text-align: right;\n",
       "    }\n",
       "</style>\n",
       "<table border=\"1\" class=\"dataframe\">\n",
       "  <thead>\n",
       "    <tr style=\"text-align: right;\">\n",
       "      <th></th>\n",
       "      <th>YEAR</th>\n",
       "      <th>QUARTER</th>\n",
       "      <th>MONTH</th>\n",
       "      <th>DAY_OF_MONTH</th>\n",
       "      <th>DAY_OF_WEEK</th>\n",
       "      <th>FL_DATE</th>\n",
       "      <th>OP_UNIQUE_CARRIER</th>\n",
       "      <th>OP_CARRIER_AIRLINE_ID</th>\n",
       "      <th>OP_CARRIER</th>\n",
       "      <th>TAIL_NUM</th>\n",
       "      <th>...</th>\n",
       "      <th>AIR_TIME</th>\n",
       "      <th>FLIGHTS</th>\n",
       "      <th>DISTANCE</th>\n",
       "      <th>DISTANCE_GROUP</th>\n",
       "      <th>CARRIER_DELAY</th>\n",
       "      <th>WEATHER_DELAY</th>\n",
       "      <th>NAS_DELAY</th>\n",
       "      <th>SECURITY_DELAY</th>\n",
       "      <th>LATE_AIRCRAFT_DELAY</th>\n",
       "      <th>DIV_AIRPORT_LANDINGS</th>\n",
       "    </tr>\n",
       "  </thead>\n",
       "  <tbody>\n",
       "    <tr>\n",
       "      <th>0</th>\n",
       "      <td>2021</td>\n",
       "      <td>2</td>\n",
       "      <td>6</td>\n",
       "      <td>1</td>\n",
       "      <td>2</td>\n",
       "      <td>6/1/2021 12:00:00 AM</td>\n",
       "      <td>9E</td>\n",
       "      <td>20363</td>\n",
       "      <td>9E</td>\n",
       "      <td>N131EV</td>\n",
       "      <td>...</td>\n",
       "      <td>86.0</td>\n",
       "      <td>1.0</td>\n",
       "      <td>509.0</td>\n",
       "      <td>3</td>\n",
       "      <td>NaN</td>\n",
       "      <td>NaN</td>\n",
       "      <td>NaN</td>\n",
       "      <td>NaN</td>\n",
       "      <td>NaN</td>\n",
       "      <td>0.0</td>\n",
       "    </tr>\n",
       "    <tr>\n",
       "      <th>1</th>\n",
       "      <td>2021</td>\n",
       "      <td>2</td>\n",
       "      <td>6</td>\n",
       "      <td>1</td>\n",
       "      <td>2</td>\n",
       "      <td>6/1/2021 12:00:00 AM</td>\n",
       "      <td>9E</td>\n",
       "      <td>20363</td>\n",
       "      <td>9E</td>\n",
       "      <td>N131EV</td>\n",
       "      <td>...</td>\n",
       "      <td>39.0</td>\n",
       "      <td>1.0</td>\n",
       "      <td>229.0</td>\n",
       "      <td>1</td>\n",
       "      <td>94.0</td>\n",
       "      <td>0.0</td>\n",
       "      <td>0.0</td>\n",
       "      <td>0.0</td>\n",
       "      <td>0.0</td>\n",
       "      <td>0.0</td>\n",
       "    </tr>\n",
       "    <tr>\n",
       "      <th>2</th>\n",
       "      <td>2021</td>\n",
       "      <td>2</td>\n",
       "      <td>6</td>\n",
       "      <td>1</td>\n",
       "      <td>2</td>\n",
       "      <td>6/1/2021 12:00:00 AM</td>\n",
       "      <td>9E</td>\n",
       "      <td>20363</td>\n",
       "      <td>9E</td>\n",
       "      <td>N131EV</td>\n",
       "      <td>...</td>\n",
       "      <td>107.0</td>\n",
       "      <td>1.0</td>\n",
       "      <td>773.0</td>\n",
       "      <td>4</td>\n",
       "      <td>0.0</td>\n",
       "      <td>0.0</td>\n",
       "      <td>0.0</td>\n",
       "      <td>0.0</td>\n",
       "      <td>79.0</td>\n",
       "      <td>0.0</td>\n",
       "    </tr>\n",
       "    <tr>\n",
       "      <th>3</th>\n",
       "      <td>2021</td>\n",
       "      <td>2</td>\n",
       "      <td>6</td>\n",
       "      <td>1</td>\n",
       "      <td>2</td>\n",
       "      <td>6/1/2021 12:00:00 AM</td>\n",
       "      <td>9E</td>\n",
       "      <td>20363</td>\n",
       "      <td>9E</td>\n",
       "      <td>N131EV</td>\n",
       "      <td>...</td>\n",
       "      <td>97.0</td>\n",
       "      <td>1.0</td>\n",
       "      <td>773.0</td>\n",
       "      <td>4</td>\n",
       "      <td>2.0</td>\n",
       "      <td>0.0</td>\n",
       "      <td>0.0</td>\n",
       "      <td>0.0</td>\n",
       "      <td>62.0</td>\n",
       "      <td>0.0</td>\n",
       "    </tr>\n",
       "    <tr>\n",
       "      <th>4</th>\n",
       "      <td>2021</td>\n",
       "      <td>2</td>\n",
       "      <td>6</td>\n",
       "      <td>1</td>\n",
       "      <td>2</td>\n",
       "      <td>6/1/2021 12:00:00 AM</td>\n",
       "      <td>9E</td>\n",
       "      <td>20363</td>\n",
       "      <td>9E</td>\n",
       "      <td>N131EV</td>\n",
       "      <td>...</td>\n",
       "      <td>48.0</td>\n",
       "      <td>1.0</td>\n",
       "      <td>273.0</td>\n",
       "      <td>2</td>\n",
       "      <td>NaN</td>\n",
       "      <td>NaN</td>\n",
       "      <td>NaN</td>\n",
       "      <td>NaN</td>\n",
       "      <td>NaN</td>\n",
       "      <td>0.0</td>\n",
       "    </tr>\n",
       "  </tbody>\n",
       "</table>\n",
       "<p>5 rows × 61 columns</p>\n",
       "</div>"
      ],
      "text/plain": [
       "   YEAR  QUARTER  MONTH  DAY_OF_MONTH  DAY_OF_WEEK               FL_DATE  \\\n",
       "0  2021        2      6             1            2  6/1/2021 12:00:00 AM   \n",
       "1  2021        2      6             1            2  6/1/2021 12:00:00 AM   \n",
       "2  2021        2      6             1            2  6/1/2021 12:00:00 AM   \n",
       "3  2021        2      6             1            2  6/1/2021 12:00:00 AM   \n",
       "4  2021        2      6             1            2  6/1/2021 12:00:00 AM   \n",
       "\n",
       "  OP_UNIQUE_CARRIER  OP_CARRIER_AIRLINE_ID OP_CARRIER TAIL_NUM  ...  AIR_TIME  \\\n",
       "0                9E                  20363         9E   N131EV  ...      86.0   \n",
       "1                9E                  20363         9E   N131EV  ...      39.0   \n",
       "2                9E                  20363         9E   N131EV  ...     107.0   \n",
       "3                9E                  20363         9E   N131EV  ...      97.0   \n",
       "4                9E                  20363         9E   N131EV  ...      48.0   \n",
       "\n",
       "   FLIGHTS  DISTANCE  DISTANCE_GROUP CARRIER_DELAY WEATHER_DELAY NAS_DELAY  \\\n",
       "0      1.0     509.0               3           NaN           NaN       NaN   \n",
       "1      1.0     229.0               1          94.0           0.0       0.0   \n",
       "2      1.0     773.0               4           0.0           0.0       0.0   \n",
       "3      1.0     773.0               4           2.0           0.0       0.0   \n",
       "4      1.0     273.0               2           NaN           NaN       NaN   \n",
       "\n",
       "   SECURITY_DELAY LATE_AIRCRAFT_DELAY  DIV_AIRPORT_LANDINGS  \n",
       "0             NaN                 NaN                   0.0  \n",
       "1             0.0                 0.0                   0.0  \n",
       "2             0.0                79.0                   0.0  \n",
       "3             0.0                62.0                   0.0  \n",
       "4             NaN                 NaN                   0.0  \n",
       "\n",
       "[5 rows x 61 columns]"
      ]
     },
     "execution_count": 10,
     "metadata": {},
     "output_type": "execute_result"
    }
   ],
   "source": [
    "final_df.head()"
   ]
  },
  {
   "cell_type": "code",
   "execution_count": 11,
   "metadata": {},
   "outputs": [
    {
     "name": "stdout",
     "output_type": "stream",
     "text": [
      "<class 'pandas.core.frame.DataFrame'>\n",
      "Int64Index: 2301622 entries, 0 to 594956\n",
      "Data columns (total 61 columns):\n",
      " #   Column                 Dtype  \n",
      "---  ------                 -----  \n",
      " 0   YEAR                   int64  \n",
      " 1   QUARTER                int64  \n",
      " 2   MONTH                  int64  \n",
      " 3   DAY_OF_MONTH           int64  \n",
      " 4   DAY_OF_WEEK            int64  \n",
      " 5   FL_DATE                object \n",
      " 6   OP_UNIQUE_CARRIER      object \n",
      " 7   OP_CARRIER_AIRLINE_ID  int64  \n",
      " 8   OP_CARRIER             object \n",
      " 9   TAIL_NUM               object \n",
      " 10  OP_CARRIER_FL_NUM      int64  \n",
      " 11  ORIGIN_AIRPORT_ID      int64  \n",
      " 12  ORIGIN_AIRPORT_SEQ_ID  int64  \n",
      " 13  ORIGIN_CITY_MARKET_ID  int64  \n",
      " 14  ORIGIN                 object \n",
      " 15  ORIGIN_CITY_NAME       object \n",
      " 16  ORIGIN_STATE_ABR       object \n",
      " 17  ORIGIN_STATE_FIPS      int64  \n",
      " 18  ORIGIN_STATE_NM        object \n",
      " 19  ORIGIN_WAC             int64  \n",
      " 20  DEST_AIRPORT_ID        int64  \n",
      " 21  DEST_AIRPORT_SEQ_ID    int64  \n",
      " 22  DEST_CITY_MARKET_ID    int64  \n",
      " 23  DEST                   object \n",
      " 24  DEST_CITY_NAME         object \n",
      " 25  DEST_STATE_ABR         object \n",
      " 26  DEST_STATE_FIPS        int64  \n",
      " 27  DEST_STATE_NM          object \n",
      " 28  DEST_WAC               int64  \n",
      " 29  CRS_DEP_TIME           int64  \n",
      " 30  DEP_TIME               float64\n",
      " 31  DEP_DELAY              float64\n",
      " 32  DEP_DELAY_NEW          float64\n",
      " 33  DEP_DEL15              float64\n",
      " 34  DEP_DELAY_GROUP        float64\n",
      " 35  DEP_TIME_BLK           object \n",
      " 36  TAXI_OUT               float64\n",
      " 37  WHEELS_OFF             float64\n",
      " 38  WHEELS_ON              float64\n",
      " 39  TAXI_IN                float64\n",
      " 40  CRS_ARR_TIME           int64  \n",
      " 41  ARR_TIME               float64\n",
      " 42  ARR_DELAY              float64\n",
      " 43  ARR_DELAY_NEW          float64\n",
      " 44  ARR_DEL15              float64\n",
      " 45  ARR_DELAY_GROUP        float64\n",
      " 46  ARR_TIME_BLK           object \n",
      " 47  CANCELLED              float64\n",
      " 48  DIVERTED               float64\n",
      " 49  CRS_ELAPSED_TIME       float64\n",
      " 50  ACTUAL_ELAPSED_TIME    float64\n",
      " 51  AIR_TIME               float64\n",
      " 52  FLIGHTS                float64\n",
      " 53  DISTANCE               float64\n",
      " 54  DISTANCE_GROUP         int64  \n",
      " 55  CARRIER_DELAY          float64\n",
      " 56  WEATHER_DELAY          float64\n",
      " 57  NAS_DELAY              float64\n",
      " 58  SECURITY_DELAY         float64\n",
      " 59  LATE_AIRCRAFT_DELAY    float64\n",
      " 60  DIV_AIRPORT_LANDINGS   float64\n",
      "dtypes: float64(27), int64(20), object(14)\n",
      "memory usage: 1.1+ GB\n"
     ]
    }
   ],
   "source": [
    "final_df.info()"
   ]
  },
  {
   "cell_type": "code",
   "execution_count": 12,
   "metadata": {
    "scrolled": true
   },
   "outputs": [
    {
     "name": "stdout",
     "output_type": "stream",
     "text": [
      "YEAR                          0\n",
      "QUARTER                       0\n",
      "MONTH                         0\n",
      "DAY_OF_MONTH                  0\n",
      "DAY_OF_WEEK                   0\n",
      "                         ...   \n",
      "WEATHER_DELAY           1758215\n",
      "NAS_DELAY               1758215\n",
      "SECURITY_DELAY          1758215\n",
      "LATE_AIRCRAFT_DELAY     1758215\n",
      "DIV_AIRPORT_LANDINGS          1\n",
      "Length: 61, dtype: int64\n"
     ]
    }
   ],
   "source": [
    "#check number of missing values column wise\n",
    "print(final_df.isna().sum())"
   ]
  },
  {
   "cell_type": "code",
   "execution_count": 13,
   "metadata": {},
   "outputs": [],
   "source": [
    "\n",
    "# 1.3 Categorise variables (reference: Flight delay prediction based on deep learning and Levenberg‐Marquart algorithm)\n",
    "\n",
    "date_list = ['YEAR','MONTH','DAY_OF_MONTH','DAY_OF_WEEK', 'FL_DATE']\n",
    "delay_time_list = ['DEP_TIME','DEP_DELAY','ArrTime','ARR_DELAY', 'DEP_DEL15']\n",
    "delay_reason_list = ['CARRIER_DELAY','WEATHER_DELAY','NAS_DELAY','SECURITY_DELAY','LATE_AIRCRAFT_DELAY']\n",
    "flight_info_list = ['OP_CARRIER_FL_NUM','ORIGIN','DEST']\n",
    "     "
   ]
  },
  {
   "cell_type": "code",
   "execution_count": 14,
   "metadata": {},
   "outputs": [
    {
     "name": "stdout",
     "output_type": "stream",
     "text": [
      "['9E' 'AA' 'AS' 'B6' 'DL' 'F9' 'G4' 'HA' 'MQ' 'NK' 'OH' 'OO' 'QX' 'UA'\n",
      " 'WN' 'YV' 'YX']\n"
     ]
    }
   ],
   "source": [
    "print(final_df['OP_UNIQUE_CARRIER'].unique())"
   ]
  },
  {
   "cell_type": "code",
   "execution_count": 15,
   "metadata": {},
   "outputs": [],
   "source": [
    "carrier_names = {\n",
    "    '9E': 'Endeavor Air',\n",
    "    'AA': 'American Airlines',\n",
    "    'AS': 'Alaska Airlines',\n",
    "    'B6': 'JetBlue Airways',\n",
    "    'DL': 'Delta Air Lines',\n",
    "    'F9': 'Frontier Airlines',\n",
    "    'G4': 'Allegiant Air',\n",
    "    'HA': 'Hawaiian Airlines',\n",
    "    'MQ': 'Envoy Air',\n",
    "    'NK': 'Spirit Airlines',\n",
    "    'OH': 'PSA Airlines',\n",
    "    'OO': 'SkyWest Airlines',\n",
    "    'QX': 'Horizon Air',\n",
    "    'UA': 'United Airlines',\n",
    "    'WN': 'Southwest Airlines',\n",
    "    'YV': 'Mesa Airlines',\n",
    "    'YX': 'Republic Airways'\n",
    "}"
   ]
  },
  {
   "cell_type": "code",
   "execution_count": 16,
   "metadata": {},
   "outputs": [],
   "source": [
    "final_df['Carrier_Name'] = final_df['OP_UNIQUE_CARRIER'].map(carrier_names)\n"
   ]
  },
  {
   "cell_type": "code",
   "execution_count": 17,
   "metadata": {},
   "outputs": [
    {
     "data": {
      "text/html": [
       "<div>\n",
       "<style scoped>\n",
       "    .dataframe tbody tr th:only-of-type {\n",
       "        vertical-align: middle;\n",
       "    }\n",
       "\n",
       "    .dataframe tbody tr th {\n",
       "        vertical-align: top;\n",
       "    }\n",
       "\n",
       "    .dataframe thead th {\n",
       "        text-align: right;\n",
       "    }\n",
       "</style>\n",
       "<table border=\"1\" class=\"dataframe\">\n",
       "  <thead>\n",
       "    <tr style=\"text-align: right;\">\n",
       "      <th></th>\n",
       "      <th>YEAR</th>\n",
       "      <th>QUARTER</th>\n",
       "      <th>MONTH</th>\n",
       "      <th>DAY_OF_MONTH</th>\n",
       "      <th>DAY_OF_WEEK</th>\n",
       "      <th>FL_DATE</th>\n",
       "      <th>OP_UNIQUE_CARRIER</th>\n",
       "      <th>OP_CARRIER_AIRLINE_ID</th>\n",
       "      <th>OP_CARRIER</th>\n",
       "      <th>TAIL_NUM</th>\n",
       "      <th>...</th>\n",
       "      <th>FLIGHTS</th>\n",
       "      <th>DISTANCE</th>\n",
       "      <th>DISTANCE_GROUP</th>\n",
       "      <th>CARRIER_DELAY</th>\n",
       "      <th>WEATHER_DELAY</th>\n",
       "      <th>NAS_DELAY</th>\n",
       "      <th>SECURITY_DELAY</th>\n",
       "      <th>LATE_AIRCRAFT_DELAY</th>\n",
       "      <th>DIV_AIRPORT_LANDINGS</th>\n",
       "      <th>Carrier_Name</th>\n",
       "    </tr>\n",
       "  </thead>\n",
       "  <tbody>\n",
       "    <tr>\n",
       "      <th>0</th>\n",
       "      <td>2021</td>\n",
       "      <td>2</td>\n",
       "      <td>6</td>\n",
       "      <td>1</td>\n",
       "      <td>2</td>\n",
       "      <td>6/1/2021 12:00:00 AM</td>\n",
       "      <td>9E</td>\n",
       "      <td>20363</td>\n",
       "      <td>9E</td>\n",
       "      <td>N131EV</td>\n",
       "      <td>...</td>\n",
       "      <td>1.0</td>\n",
       "      <td>509.0</td>\n",
       "      <td>3</td>\n",
       "      <td>NaN</td>\n",
       "      <td>NaN</td>\n",
       "      <td>NaN</td>\n",
       "      <td>NaN</td>\n",
       "      <td>NaN</td>\n",
       "      <td>0.0</td>\n",
       "      <td>Endeavor Air</td>\n",
       "    </tr>\n",
       "    <tr>\n",
       "      <th>1</th>\n",
       "      <td>2021</td>\n",
       "      <td>2</td>\n",
       "      <td>6</td>\n",
       "      <td>1</td>\n",
       "      <td>2</td>\n",
       "      <td>6/1/2021 12:00:00 AM</td>\n",
       "      <td>9E</td>\n",
       "      <td>20363</td>\n",
       "      <td>9E</td>\n",
       "      <td>N131EV</td>\n",
       "      <td>...</td>\n",
       "      <td>1.0</td>\n",
       "      <td>229.0</td>\n",
       "      <td>1</td>\n",
       "      <td>94.0</td>\n",
       "      <td>0.0</td>\n",
       "      <td>0.0</td>\n",
       "      <td>0.0</td>\n",
       "      <td>0.0</td>\n",
       "      <td>0.0</td>\n",
       "      <td>Endeavor Air</td>\n",
       "    </tr>\n",
       "    <tr>\n",
       "      <th>2</th>\n",
       "      <td>2021</td>\n",
       "      <td>2</td>\n",
       "      <td>6</td>\n",
       "      <td>1</td>\n",
       "      <td>2</td>\n",
       "      <td>6/1/2021 12:00:00 AM</td>\n",
       "      <td>9E</td>\n",
       "      <td>20363</td>\n",
       "      <td>9E</td>\n",
       "      <td>N131EV</td>\n",
       "      <td>...</td>\n",
       "      <td>1.0</td>\n",
       "      <td>773.0</td>\n",
       "      <td>4</td>\n",
       "      <td>0.0</td>\n",
       "      <td>0.0</td>\n",
       "      <td>0.0</td>\n",
       "      <td>0.0</td>\n",
       "      <td>79.0</td>\n",
       "      <td>0.0</td>\n",
       "      <td>Endeavor Air</td>\n",
       "    </tr>\n",
       "    <tr>\n",
       "      <th>3</th>\n",
       "      <td>2021</td>\n",
       "      <td>2</td>\n",
       "      <td>6</td>\n",
       "      <td>1</td>\n",
       "      <td>2</td>\n",
       "      <td>6/1/2021 12:00:00 AM</td>\n",
       "      <td>9E</td>\n",
       "      <td>20363</td>\n",
       "      <td>9E</td>\n",
       "      <td>N131EV</td>\n",
       "      <td>...</td>\n",
       "      <td>1.0</td>\n",
       "      <td>773.0</td>\n",
       "      <td>4</td>\n",
       "      <td>2.0</td>\n",
       "      <td>0.0</td>\n",
       "      <td>0.0</td>\n",
       "      <td>0.0</td>\n",
       "      <td>62.0</td>\n",
       "      <td>0.0</td>\n",
       "      <td>Endeavor Air</td>\n",
       "    </tr>\n",
       "    <tr>\n",
       "      <th>4</th>\n",
       "      <td>2021</td>\n",
       "      <td>2</td>\n",
       "      <td>6</td>\n",
       "      <td>1</td>\n",
       "      <td>2</td>\n",
       "      <td>6/1/2021 12:00:00 AM</td>\n",
       "      <td>9E</td>\n",
       "      <td>20363</td>\n",
       "      <td>9E</td>\n",
       "      <td>N131EV</td>\n",
       "      <td>...</td>\n",
       "      <td>1.0</td>\n",
       "      <td>273.0</td>\n",
       "      <td>2</td>\n",
       "      <td>NaN</td>\n",
       "      <td>NaN</td>\n",
       "      <td>NaN</td>\n",
       "      <td>NaN</td>\n",
       "      <td>NaN</td>\n",
       "      <td>0.0</td>\n",
       "      <td>Endeavor Air</td>\n",
       "    </tr>\n",
       "  </tbody>\n",
       "</table>\n",
       "<p>5 rows × 62 columns</p>\n",
       "</div>"
      ],
      "text/plain": [
       "   YEAR  QUARTER  MONTH  DAY_OF_MONTH  DAY_OF_WEEK               FL_DATE  \\\n",
       "0  2021        2      6             1            2  6/1/2021 12:00:00 AM   \n",
       "1  2021        2      6             1            2  6/1/2021 12:00:00 AM   \n",
       "2  2021        2      6             1            2  6/1/2021 12:00:00 AM   \n",
       "3  2021        2      6             1            2  6/1/2021 12:00:00 AM   \n",
       "4  2021        2      6             1            2  6/1/2021 12:00:00 AM   \n",
       "\n",
       "  OP_UNIQUE_CARRIER  OP_CARRIER_AIRLINE_ID OP_CARRIER TAIL_NUM  ...  FLIGHTS  \\\n",
       "0                9E                  20363         9E   N131EV  ...      1.0   \n",
       "1                9E                  20363         9E   N131EV  ...      1.0   \n",
       "2                9E                  20363         9E   N131EV  ...      1.0   \n",
       "3                9E                  20363         9E   N131EV  ...      1.0   \n",
       "4                9E                  20363         9E   N131EV  ...      1.0   \n",
       "\n",
       "   DISTANCE  DISTANCE_GROUP  CARRIER_DELAY WEATHER_DELAY NAS_DELAY  \\\n",
       "0     509.0               3            NaN           NaN       NaN   \n",
       "1     229.0               1           94.0           0.0       0.0   \n",
       "2     773.0               4            0.0           0.0       0.0   \n",
       "3     773.0               4            2.0           0.0       0.0   \n",
       "4     273.0               2            NaN           NaN       NaN   \n",
       "\n",
       "  SECURITY_DELAY  LATE_AIRCRAFT_DELAY DIV_AIRPORT_LANDINGS  Carrier_Name  \n",
       "0            NaN                  NaN                  0.0  Endeavor Air  \n",
       "1            0.0                  0.0                  0.0  Endeavor Air  \n",
       "2            0.0                 79.0                  0.0  Endeavor Air  \n",
       "3            0.0                 62.0                  0.0  Endeavor Air  \n",
       "4            NaN                  NaN                  0.0  Endeavor Air  \n",
       "\n",
       "[5 rows x 62 columns]"
      ]
     },
     "execution_count": 17,
     "metadata": {},
     "output_type": "execute_result"
    }
   ],
   "source": [
    "final_df.head()"
   ]
  },
  {
   "cell_type": "code",
   "execution_count": 18,
   "metadata": {},
   "outputs": [],
   "source": [
    "carrier_df = final_df['OP_UNIQUE_CARRIER']"
   ]
  },
  {
   "cell_type": "code",
   "execution_count": 19,
   "metadata": {},
   "outputs": [
    {
     "data": {
      "image/png": "[encoded data removed]",
      "text/plain": [
       "<Figure size 432x288 with 1 Axes>"
      ]
     },
     "metadata": {
      "needs_background": "light"
     },
     "output_type": "display_data"
    }
   ],
   "source": [
    "sns.countplot(x = final_df['Carrier_Name'], data = final_df, order= final_df['Carrier_Name'].value_counts().index)\n",
    "plt.xticks(rotation = 90)\n",
    "plt.xlabel('Carrier Names')\n",
    "plt.ylabel('Number of flights')\n",
    "plt.title('Number of flights by different carriers')\n",
    "plt.show()"
   ]
  },
  {
   "cell_type": "code",
   "execution_count": 20,
   "metadata": {},
   "outputs": [
    {
     "data": {
      "image/png": "[encoded data removed]",
      "text/plain": [
       "<Figure size 720x288 with 1 Axes>"
      ]
     },
     "metadata": {
      "needs_background": "light"
     },
     "output_type": "display_data"
    }
   ],
   "source": [
    "#number of departure delays vs Year\n",
    "temp_df = final_df.copy(deep=True)\n",
    "temp_df = temp_df[['DEP_DEL15','Carrier_Name']].groupby('Carrier_Name').sum('DEP_DEL15').reset_index()\n",
    "\n",
    "fig = plt.figure(figsize=(10, 4))\n",
    "sns.barplot(data=temp_df, x=\"Carrier_Name\", y=\"DEP_DEL15\")\n",
    "plt.xticks(rotation = 90)\n",
    "plt.xlabel('Carrier Names')\n",
    "plt.ylabel('Number of flights')\n",
    "plt.title('Delayed flights by different carriers')\n",
    "plt.show()"
   ]
  },
  {
   "cell_type": "code",
   "execution_count": 21,
   "metadata": {},
   "outputs": [
    {
     "data": {
      "image/png": "[encoded data removed]",
      "text/plain": [
       "<Figure size 720x288 with 1 Axes>"
      ]
     },
     "metadata": {
      "needs_background": "light"
     },
     "output_type": "display_data"
    }
   ],
   "source": [
    "#number of departure delays vs Year\n",
    "temp_df = final_df.copy(deep=True)\n",
    "temp_df = temp_df[['DEP_DEL15','Carrier_Name']].groupby('Carrier_Name').sum('DEP_DEL15').reset_index()\n",
    "\n",
    "fig = plt.figure(figsize=(10, 4))\n",
    "sns.barplot(data=temp_df, x=\"Carrier_Name\", y=\"DEP_DEL15\", order= temp_df['Carrier_Name'].value_counts().index)\n",
    "plt.xticks(rotation = 90)\n",
    "plt.xlabel('Carrier Names')\n",
    "plt.ylabel('Number of flights')\n",
    "plt.title('Delayed flights by different carriers')\n",
    "plt.show()"
   ]
  },
  {
   "cell_type": "code",
   "execution_count": 22,
   "metadata": {},
   "outputs": [],
   "source": [
    "carrier_stats = final_df.groupby(['Carrier_Name']).agg({\n",
    "    'FLIGHTS': 'count',\n",
    "    'DEP_DEL15': 'sum'\n",
    "})"
   ]
  },
  {
   "cell_type": "code",
   "execution_count": 23,
   "metadata": {},
   "outputs": [
    {
     "data": {
      "text/html": [
       "<div>\n",
       "<style scoped>\n",
       "    .dataframe tbody tr th:only-of-type {\n",
       "        vertical-align: middle;\n",
       "    }\n",
       "\n",
       "    .dataframe tbody tr th {\n",
       "        vertical-align: top;\n",
       "    }\n",
       "\n",
       "    .dataframe thead th {\n",
       "        text-align: right;\n",
       "    }\n",
       "</style>\n",
       "<table border=\"1\" class=\"dataframe\">\n",
       "  <thead>\n",
       "    <tr style=\"text-align: right;\">\n",
       "      <th></th>\n",
       "      <th>FLIGHTS</th>\n",
       "      <th>DEP_DEL15</th>\n",
       "    </tr>\n",
       "    <tr>\n",
       "      <th>Carrier_Name</th>\n",
       "      <th></th>\n",
       "      <th></th>\n",
       "    </tr>\n",
       "  </thead>\n",
       "  <tbody>\n",
       "    <tr>\n",
       "      <th>Alaska Airlines</th>\n",
       "      <td>73645</td>\n",
       "      <td>12348.0</td>\n",
       "    </tr>\n",
       "    <tr>\n",
       "      <th>Allegiant Air</th>\n",
       "      <td>50641</td>\n",
       "      <td>18143.0</td>\n",
       "    </tr>\n",
       "    <tr>\n",
       "      <th>American Airlines</th>\n",
       "      <td>294984</td>\n",
       "      <td>80636.0</td>\n",
       "    </tr>\n",
       "    <tr>\n",
       "      <th>Delta Air Lines</th>\n",
       "      <td>291538</td>\n",
       "      <td>52805.0</td>\n",
       "    </tr>\n",
       "    <tr>\n",
       "      <th>Endeavor Air</th>\n",
       "      <td>90311</td>\n",
       "      <td>12162.0</td>\n",
       "    </tr>\n",
       "    <tr>\n",
       "      <th>Envoy Air</th>\n",
       "      <td>89921</td>\n",
       "      <td>16071.0</td>\n",
       "    </tr>\n",
       "    <tr>\n",
       "      <th>Frontier Airlines</th>\n",
       "      <td>51662</td>\n",
       "      <td>15343.0</td>\n",
       "    </tr>\n",
       "    <tr>\n",
       "      <th>Hawaiian Airlines</th>\n",
       "      <td>25234</td>\n",
       "      <td>4015.0</td>\n",
       "    </tr>\n",
       "    <tr>\n",
       "      <th>Horizon Air</th>\n",
       "      <td>39299</td>\n",
       "      <td>5288.0</td>\n",
       "    </tr>\n",
       "    <tr>\n",
       "      <th>JetBlue Airways</th>\n",
       "      <td>82685</td>\n",
       "      <td>29908.0</td>\n",
       "    </tr>\n",
       "    <tr>\n",
       "      <th>Mesa Airlines</th>\n",
       "      <td>49505</td>\n",
       "      <td>12381.0</td>\n",
       "    </tr>\n",
       "    <tr>\n",
       "      <th>PSA Airlines</th>\n",
       "      <td>80096</td>\n",
       "      <td>15678.0</td>\n",
       "    </tr>\n",
       "    <tr>\n",
       "      <th>Republic Airways</th>\n",
       "      <td>118492</td>\n",
       "      <td>21695.0</td>\n",
       "    </tr>\n",
       "    <tr>\n",
       "      <th>SkyWest Airlines</th>\n",
       "      <td>270907</td>\n",
       "      <td>48308.0</td>\n",
       "    </tr>\n",
       "    <tr>\n",
       "      <th>Southwest Airlines</th>\n",
       "      <td>431334</td>\n",
       "      <td>150415.0</td>\n",
       "    </tr>\n",
       "    <tr>\n",
       "      <th>Spirit Airlines</th>\n",
       "      <td>73548</td>\n",
       "      <td>18978.0</td>\n",
       "    </tr>\n",
       "    <tr>\n",
       "      <th>United Airlines</th>\n",
       "      <td>187820</td>\n",
       "      <td>42240.0</td>\n",
       "    </tr>\n",
       "  </tbody>\n",
       "</table>\n",
       "</div>"
      ],
      "text/plain": [
       "                    FLIGHTS  DEP_DEL15\n",
       "Carrier_Name                          \n",
       "Alaska Airlines       73645    12348.0\n",
       "Allegiant Air         50641    18143.0\n",
       "American Airlines    294984    80636.0\n",
       "Delta Air Lines      291538    52805.0\n",
       "Endeavor Air          90311    12162.0\n",
       "Envoy Air             89921    16071.0\n",
       "Frontier Airlines     51662    15343.0\n",
       "Hawaiian Airlines     25234     4015.0\n",
       "Horizon Air           39299     5288.0\n",
       "JetBlue Airways       82685    29908.0\n",
       "Mesa Airlines         49505    12381.0\n",
       "PSA Airlines          80096    15678.0\n",
       "Republic Airways     118492    21695.0\n",
       "SkyWest Airlines     270907    48308.0\n",
       "Southwest Airlines   431334   150415.0\n",
       "Spirit Airlines       73548    18978.0\n",
       "United Airlines      187820    42240.0"
      ]
     },
     "execution_count": 23,
     "metadata": {},
     "output_type": "execute_result"
    }
   ],
   "source": [
    "carrier_stats"
   ]
  },
  {
   "cell_type": "code",
   "execution_count": 24,
   "metadata": {},
   "outputs": [],
   "source": [
    "# calculate the percentage of delayed flights for each carrier\n",
    "carrier_stats['DELAY_PERCENTAGE'] = carrier_stats['DEP_DEL15'] / carrier_stats['FLIGHTS'] * 100"
   ]
  },
  {
   "cell_type": "code",
   "execution_count": 25,
   "metadata": {},
   "outputs": [],
   "source": [
    "# reset the index to make 'OP_UNIQUE_CARRIER' a regular column\n",
    "carrier_stats = carrier_stats.reset_index()"
   ]
  },
  {
   "cell_type": "code",
   "execution_count": 26,
   "metadata": {},
   "outputs": [],
   "source": [
    "# sort the carriers by the number of flights\n",
    "carrier_stats = carrier_stats.sort_values(by=['FLIGHTS'], ascending=False)\n"
   ]
  },
  {
   "cell_type": "code",
   "execution_count": 30,
   "metadata": {},
   "outputs": [
    {
     "data": {
      "image/png": "[encoded data removed]",
      "text/plain": [
       "<Figure size 864x576 with 1 Axes>"
      ]
     },
     "metadata": {
      "needs_background": "light"
     },
     "output_type": "display_data"
    }
   ],
   "source": [
    "# plot the results\n",
    "plt.figure(figsize=(12, 8))\n",
    "sns.barplot(x='Carrier_Name', y='DELAY_PERCENTAGE', data=carrier_stats)\n",
    "plt.xticks(rotation = 45)\n",
    "plt.xlabel('Carrier')\n",
    "plt.ylabel('Percentage of Delayed Flights')\n",
    "plt.title('Reliability of Carriers by Flight Volume')\n",
    "plt.show()"
   ]
  },
  {
   "cell_type": "code",
   "execution_count": 28,
   "metadata": {},
   "outputs": [
    {
     "data": {
      "image/png": "[encoded data removed]",
      "text/plain": [
       "<Figure size 432x288 with 1 Axes>"
      ]
     },
     "metadata": {
      "needs_background": "light"
     },
     "output_type": "display_data"
    },
    {
     "data": {
      "image/png": "[encoded data removed]",
      "text/plain": [
       "<Figure size 432x288 with 1 Axes>"
      ]
     },
     "metadata": {
      "needs_background": "light"
     },
     "output_type": "display_data"
    }
   ],
   "source": [
    "sns.kdeplot(data=final_df, x='ARR_DELAY', color='blue', fill=True)\n",
    "plt.xlim(0,500)\n",
    "plt.xlabel('Arrival Delay (minutes)')\n",
    "plt.ylabel('Density')\n",
    "plt.title('Distribution of Arrival Delay')\n",
    "plt.show()\n",
    "\n",
    "# Plot the distribution of departure delay\n",
    "sns.kdeplot(data=final_df, x='DEP_DELAY', color='green', fill=True)\n",
    "plt.xlim(0,500)\n",
    "plt.xlabel('Departure Delay (minutes)')\n",
    "plt.ylabel('Density')\n",
    "plt.title('Distribution of Departure Delay')\n",
    "plt.show()"
   ]
  },
  {
   "cell_type": "code",
   "execution_count": 78,
   "metadata": {},
   "outputs": [],
   "source": [
    "delay_reasons = final_df[['CARRIER_DELAY', 'WEATHER_DELAY', 'NAS_DELAY', 'SECURITY_DELAY', 'LATE_AIRCRAFT_DELAY']]\n",
    "delay_reasons = pd.melt(delay_reasons, var_name='Delay Reason')\n"
   ]
  },
  {
   "cell_type": "code",
   "execution_count": 80,
   "metadata": {},
   "outputs": [
    {
     "data": {
      "text/html": [
       "<div>\n",
       "<style scoped>\n",
       "    .dataframe tbody tr th:only-of-type {\n",
       "        vertical-align: middle;\n",
       "    }\n",
       "\n",
       "    .dataframe tbody tr th {\n",
       "        vertical-align: top;\n",
       "    }\n",
       "\n",
       "    .dataframe thead th {\n",
       "        text-align: right;\n",
       "    }\n",
       "</style>\n",
       "<table border=\"1\" class=\"dataframe\">\n",
       "  <thead>\n",
       "    <tr style=\"text-align: right;\">\n",
       "      <th></th>\n",
       "      <th>Delay Reason</th>\n",
       "      <th>value</th>\n",
       "    </tr>\n",
       "  </thead>\n",
       "  <tbody>\n",
       "    <tr>\n",
       "      <th>0</th>\n",
       "      <td>CARRIER_DELAY</td>\n",
       "      <td>NaN</td>\n",
       "    </tr>\n",
       "    <tr>\n",
       "      <th>1</th>\n",
       "      <td>CARRIER_DELAY</td>\n",
       "      <td>94.0</td>\n",
       "    </tr>\n",
       "    <tr>\n",
       "      <th>2</th>\n",
       "      <td>CARRIER_DELAY</td>\n",
       "      <td>0.0</td>\n",
       "    </tr>\n",
       "    <tr>\n",
       "      <th>3</th>\n",
       "      <td>CARRIER_DELAY</td>\n",
       "      <td>2.0</td>\n",
       "    </tr>\n",
       "    <tr>\n",
       "      <th>4</th>\n",
       "      <td>CARRIER_DELAY</td>\n",
       "      <td>NaN</td>\n",
       "    </tr>\n",
       "    <tr>\n",
       "      <th>...</th>\n",
       "      <td>...</td>\n",
       "      <td>...</td>\n",
       "    </tr>\n",
       "    <tr>\n",
       "      <th>11508105</th>\n",
       "      <td>LATE_AIRCRAFT_DELAY</td>\n",
       "      <td>NaN</td>\n",
       "    </tr>\n",
       "    <tr>\n",
       "      <th>11508106</th>\n",
       "      <td>LATE_AIRCRAFT_DELAY</td>\n",
       "      <td>NaN</td>\n",
       "    </tr>\n",
       "    <tr>\n",
       "      <th>11508107</th>\n",
       "      <td>LATE_AIRCRAFT_DELAY</td>\n",
       "      <td>NaN</td>\n",
       "    </tr>\n",
       "    <tr>\n",
       "      <th>11508108</th>\n",
       "      <td>LATE_AIRCRAFT_DELAY</td>\n",
       "      <td>NaN</td>\n",
       "    </tr>\n",
       "    <tr>\n",
       "      <th>11508109</th>\n",
       "      <td>LATE_AIRCRAFT_DELAY</td>\n",
       "      <td>NaN</td>\n",
       "    </tr>\n",
       "  </tbody>\n",
       "</table>\n",
       "<p>11508110 rows × 2 columns</p>\n",
       "</div>"
      ],
      "text/plain": [
       "                 Delay Reason  value\n",
       "0               CARRIER_DELAY    NaN\n",
       "1               CARRIER_DELAY   94.0\n",
       "2               CARRIER_DELAY    0.0\n",
       "3               CARRIER_DELAY    2.0\n",
       "4               CARRIER_DELAY    NaN\n",
       "...                       ...    ...\n",
       "11508105  LATE_AIRCRAFT_DELAY    NaN\n",
       "11508106  LATE_AIRCRAFT_DELAY    NaN\n",
       "11508107  LATE_AIRCRAFT_DELAY    NaN\n",
       "11508108  LATE_AIRCRAFT_DELAY    NaN\n",
       "11508109  LATE_AIRCRAFT_DELAY    NaN\n",
       "\n",
       "[11508110 rows x 2 columns]"
      ]
     },
     "execution_count": 80,
     "metadata": {},
     "output_type": "execute_result"
    }
   ],
   "source": [
    "delay_reasons"
   ]
  },
  {
   "cell_type": "code",
   "execution_count": 89,
   "metadata": {},
   "outputs": [
    {
     "data": {
      "image/png": "[encoded data removed]",
      "text/plain": [
       "<Figure size 432x288 with 1 Axes>"
      ]
     },
     "metadata": {
      "needs_background": "light"
     },
     "output_type": "display_data"
    }
   ],
   "source": [
    "# Create a new dataframe with a single column containing all delay reasons\n",
    "delay_reasons2 = pd.DataFrame({\n",
    "    'Delay Reason': ['CARRIER_DELAY', 'WEATHER_DELAY', 'NAS_DELAY', 'SECURITY_DELAY', 'LATE_AIRCRAFT_DELAY'],\n",
    "    'Count': [\n",
    "        final_df['CARRIER_DELAY'].notnull().sum(),\n",
    "        final_df['WEATHER_DELAY'].notnull().sum(),\n",
    "        final_df['NAS_DELAY'].notnull().sum(),\n",
    "        final_df['SECURITY_DELAY'].notnull().sum(),\n",
    "        final_df['LATE_AIRCRAFT_DELAY'].notnull().sum()\n",
    "    ]\n",
    "})\n",
    "\n",
    "# Plot the count using sns.countplot\n",
    "sns.countplot(data=delay_reasons2, x='Delay Reason', palette='viridis')\n",
    "\n",
    "# Set the plot title and axes labels\n",
    "plt.xticks(rotation = 90)\n",
    "plt.title('Count of Delay Reasons')\n",
    "plt.xlabel('Delay Reason')\n",
    "plt.ylabel('Count')\n",
    "\n",
    "# Show the plot\n",
    "plt.show()\n"
   ]
  },
  {
   "cell_type": "code",
   "execution_count": 90,
   "metadata": {},
   "outputs": [
    {
     "data": {
      "text/html": [
       "<div>\n",
       "<style scoped>\n",
       "    .dataframe tbody tr th:only-of-type {\n",
       "        vertical-align: middle;\n",
       "    }\n",
       "\n",
       "    .dataframe tbody tr th {\n",
       "        vertical-align: top;\n",
       "    }\n",
       "\n",
       "    .dataframe thead th {\n",
       "        text-align: right;\n",
       "    }\n",
       "</style>\n",
       "<table border=\"1\" class=\"dataframe\">\n",
       "  <thead>\n",
       "    <tr style=\"text-align: right;\">\n",
       "      <th></th>\n",
       "      <th>Delay Reason</th>\n",
       "      <th>Count</th>\n",
       "    </tr>\n",
       "  </thead>\n",
       "  <tbody>\n",
       "    <tr>\n",
       "      <th>0</th>\n",
       "      <td>CARRIER_DELAY</td>\n",
       "      <td>543407</td>\n",
       "    </tr>\n",
       "    <tr>\n",
       "      <th>1</th>\n",
       "      <td>WEATHER_DELAY</td>\n",
       "      <td>543407</td>\n",
       "    </tr>\n",
       "    <tr>\n",
       "      <th>2</th>\n",
       "      <td>NAS_DELAY</td>\n",
       "      <td>543407</td>\n",
       "    </tr>\n",
       "    <tr>\n",
       "      <th>3</th>\n",
       "      <td>SECURITY_DELAY</td>\n",
       "      <td>543407</td>\n",
       "    </tr>\n",
       "    <tr>\n",
       "      <th>4</th>\n",
       "      <td>LATE_AIRCRAFT_DELAY</td>\n",
       "      <td>543407</td>\n",
       "    </tr>\n",
       "  </tbody>\n",
       "</table>\n",
       "</div>"
      ],
      "text/plain": [
       "          Delay Reason   Count\n",
       "0        CARRIER_DELAY  543407\n",
       "1        WEATHER_DELAY  543407\n",
       "2            NAS_DELAY  543407\n",
       "3       SECURITY_DELAY  543407\n",
       "4  LATE_AIRCRAFT_DELAY  543407"
      ]
     },
     "execution_count": 90,
     "metadata": {},
     "output_type": "execute_result"
    }
   ],
   "source": [
    "delay_reasons2"
   ]
  }
 ],
 "metadata": {
  "kernelspec": {
   "display_name": "Python 3",
   "language": "python",
   "name": "python3"
  },
  "language_info": {
   "codemirror_mode": {
    "name": "ipython",
    "version": 3
   },
   "file_extension": ".py",
   "mimetype": "text/x-python",
   "name": "python",
   "nbconvert_exporter": "python",
   "pygments_lexer": "ipython3",
   "version": "3.8.5"
  }
 },
 "nbformat": 4,
 "nbformat_minor": 5
}
